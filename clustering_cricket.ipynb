{
  "nbformat": 4,
  "nbformat_minor": 0,
  "metadata": {
    "colab": {
      "name": "clustering_cricket.ipynb",
      "provenance": [],
      "collapsed_sections": [],
      "authorship_tag": "ABX9TyPl89jlt8KkfTp2KHbHgHZc",
      "include_colab_link": true
    },
    "kernelspec": {
      "name": "python3",
      "display_name": "Python 3"
    }
  },
  "cells": [
    {
      "cell_type": "markdown",
      "metadata": {
        "id": "view-in-github",
        "colab_type": "text"
      },
      "source": [
        "<a href=\"https://colab.research.google.com/github/venkatesh-eranti/clustering_cricket-data/blob/main/clustering_cricket.ipynb\" target=\"_parent\"><img src=\"https://colab.research.google.com/assets/colab-badge.svg\" alt=\"Open In Colab\"/></a>"
      ]
    },
    {
      "cell_type": "markdown",
      "metadata": {
        "id": "Rd_GnKWiS4BJ"
      },
      "source": [
        "# loading data and understanding the data"
      ]
    },
    {
      "cell_type": "markdown",
      "metadata": {
        "id": "KbD9ArXkTpqO"
      },
      "source": [
        "## importing the required librariers"
      ]
    },
    {
      "cell_type": "code",
      "metadata": {
        "id": "ZS4lDEiCTvBe"
      },
      "source": [
        "import numpy as np\n",
        "import pandas as pd\n",
        "import matplotlib.pyplot as plt\n",
        "import seaborn as sns\n",
        "from sklearn.preprocessing import StandardScaler\n",
        "from sklearn.metrics import silhouette_score\n",
        "from sklearn.cluster import KMeans\n",
        "from scipy.cluster.hierarchy import linkage,cut_tree,dendrogram"
      ],
      "execution_count": 26,
      "outputs": []
    },
    {
      "cell_type": "markdown",
      "metadata": {
        "id": "LAm58hH1S9Fu"
      },
      "source": [
        "loading the data"
      ]
    },
    {
      "cell_type": "code",
      "metadata": {
        "id": "JmgzNClpRKQ4"
      },
      "source": [
        "data='https://raw.githubusercontent.com/venkatesh-eranti/clustering_cricket/main/Cricket.csv'"
      ],
      "execution_count": 2,
      "outputs": []
    },
    {
      "cell_type": "code",
      "metadata": {
        "colab": {
          "base_uri": "https://localhost:8080/",
          "height": 198
        },
        "id": "BF3phZnOToJ3",
        "outputId": "9686aeb7-993a-46c1-a16e-6648f69aac62"
      },
      "source": [
        "df=pd.read_csv(data,encoding = 'unicode_escape')\n",
        "df.head()"
      ],
      "execution_count": 3,
      "outputs": [
        {
          "output_type": "execute_result",
          "data": {
            "text/html": [
              "<div>\n",
              "<style scoped>\n",
              "    .dataframe tbody tr th:only-of-type {\n",
              "        vertical-align: middle;\n",
              "    }\n",
              "\n",
              "    .dataframe tbody tr th {\n",
              "        vertical-align: top;\n",
              "    }\n",
              "\n",
              "    .dataframe thead th {\n",
              "        text-align: right;\n",
              "    }\n",
              "</style>\n",
              "<table border=\"1\" class=\"dataframe\">\n",
              "  <thead>\n",
              "    <tr style=\"text-align: right;\">\n",
              "      <th></th>\n",
              "      <th>Player</th>\n",
              "      <th>Span</th>\n",
              "      <th>Mat</th>\n",
              "      <th>Inns</th>\n",
              "      <th>NO</th>\n",
              "      <th>Runs</th>\n",
              "      <th>HS</th>\n",
              "      <th>Ave</th>\n",
              "      <th>BF</th>\n",
              "      <th>SR</th>\n",
              "      <th>100</th>\n",
              "      <th>50</th>\n",
              "      <th>0</th>\n",
              "    </tr>\n",
              "  </thead>\n",
              "  <tbody>\n",
              "    <tr>\n",
              "      <th>0</th>\n",
              "      <td>SR Tendulkar (INDIA)</td>\n",
              "      <td>1989-2012</td>\n",
              "      <td>463</td>\n",
              "      <td>452</td>\n",
              "      <td>41</td>\n",
              "      <td>18426</td>\n",
              "      <td>200*</td>\n",
              "      <td>44.83</td>\n",
              "      <td>21367</td>\n",
              "      <td>86.23</td>\n",
              "      <td>49</td>\n",
              "      <td>96</td>\n",
              "      <td>20</td>\n",
              "    </tr>\n",
              "    <tr>\n",
              "      <th>1</th>\n",
              "      <td>KC Sangakkara (Asia/ICC/SL)</td>\n",
              "      <td>2000-2015</td>\n",
              "      <td>404</td>\n",
              "      <td>380</td>\n",
              "      <td>41</td>\n",
              "      <td>14234</td>\n",
              "      <td>169</td>\n",
              "      <td>41.98</td>\n",
              "      <td>18048</td>\n",
              "      <td>78.86</td>\n",
              "      <td>25</td>\n",
              "      <td>93</td>\n",
              "      <td>15</td>\n",
              "    </tr>\n",
              "    <tr>\n",
              "      <th>2</th>\n",
              "      <td>RT Ponting (AUS/ICC)</td>\n",
              "      <td>1995-2012</td>\n",
              "      <td>375</td>\n",
              "      <td>365</td>\n",
              "      <td>39</td>\n",
              "      <td>13704</td>\n",
              "      <td>164</td>\n",
              "      <td>42.03</td>\n",
              "      <td>17046</td>\n",
              "      <td>80.39</td>\n",
              "      <td>30</td>\n",
              "      <td>82</td>\n",
              "      <td>20</td>\n",
              "    </tr>\n",
              "    <tr>\n",
              "      <th>3</th>\n",
              "      <td>ST Jayasuriya (Asia/SL)</td>\n",
              "      <td>1989-2011</td>\n",
              "      <td>445</td>\n",
              "      <td>433</td>\n",
              "      <td>18</td>\n",
              "      <td>13430</td>\n",
              "      <td>189</td>\n",
              "      <td>32.36</td>\n",
              "      <td>14725</td>\n",
              "      <td>91.20</td>\n",
              "      <td>28</td>\n",
              "      <td>68</td>\n",
              "      <td>34</td>\n",
              "    </tr>\n",
              "    <tr>\n",
              "      <th>4</th>\n",
              "      <td>DPMD Jayawardene (Asia/SL)</td>\n",
              "      <td>1998-2015</td>\n",
              "      <td>448</td>\n",
              "      <td>418</td>\n",
              "      <td>39</td>\n",
              "      <td>12650</td>\n",
              "      <td>144</td>\n",
              "      <td>33.37</td>\n",
              "      <td>16020</td>\n",
              "      <td>78.96</td>\n",
              "      <td>19</td>\n",
              "      <td>77</td>\n",
              "      <td>28</td>\n",
              "    </tr>\n",
              "  </tbody>\n",
              "</table>\n",
              "</div>"
            ],
            "text/plain": [
              "                        Player       Span  Mat  Inns  ...     SR  100  50   0\n",
              "0         SR Tendulkar (INDIA)  1989-2012  463   452  ...  86.23   49  96  20\n",
              "1  KC Sangakkara (Asia/ICC/SL)  2000-2015  404   380  ...  78.86   25  93  15\n",
              "2         RT Ponting (AUS/ICC)  1995-2012  375   365  ...  80.39   30  82  20\n",
              "3      ST Jayasuriya (Asia/SL)  1989-2011  445   433  ...  91.20   28  68  34\n",
              "4   DPMD Jayawardene (Asia/SL)  1998-2015  448   418  ...  78.96   19  77  28\n",
              "\n",
              "[5 rows x 13 columns]"
            ]
          },
          "metadata": {
            "tags": []
          },
          "execution_count": 3
        }
      ]
    },
    {
      "cell_type": "markdown",
      "metadata": {
        "id": "-aTWbkRKYBSj"
      },
      "source": [
        "## checking data types"
      ]
    },
    {
      "cell_type": "code",
      "metadata": {
        "colab": {
          "base_uri": "https://localhost:8080/"
        },
        "id": "rZis9ikCW2Zw",
        "outputId": "8a380259-1bb4-485a-dc46-63805c0e0ea3"
      },
      "source": [
        "df.info()"
      ],
      "execution_count": 4,
      "outputs": [
        {
          "output_type": "stream",
          "text": [
            "<class 'pandas.core.frame.DataFrame'>\n",
            "RangeIndex: 79 entries, 0 to 78\n",
            "Data columns (total 13 columns):\n",
            " #   Column  Non-Null Count  Dtype  \n",
            "---  ------  --------------  -----  \n",
            " 0   Player  79 non-null     object \n",
            " 1   Span    79 non-null     object \n",
            " 2   Mat     79 non-null     int64  \n",
            " 3   Inns    79 non-null     int64  \n",
            " 4   NO      79 non-null     int64  \n",
            " 5   Runs    79 non-null     int64  \n",
            " 6   HS      79 non-null     object \n",
            " 7   Ave     79 non-null     float64\n",
            " 8   BF      79 non-null     int64  \n",
            " 9   SR      79 non-null     float64\n",
            " 10  100     79 non-null     int64  \n",
            " 11  50      79 non-null     int64  \n",
            " 12  0       79 non-null     int64  \n",
            "dtypes: float64(2), int64(8), object(3)\n",
            "memory usage: 8.1+ KB\n"
          ],
          "name": "stdout"
        }
      ]
    },
    {
      "cell_type": "markdown",
      "metadata": {
        "id": "jNjDPGhqYFRE"
      },
      "source": [
        "High score need to be in numeric format. but it is showing as object"
      ]
    },
    {
      "cell_type": "code",
      "metadata": {
        "colab": {
          "base_uri": "https://localhost:8080/"
        },
        "id": "z6OS8NaDX9V9",
        "outputId": "89f62071-d4e1-4cfe-b216-f79f82b9935d"
      },
      "source": [
        "df['HS']"
      ],
      "execution_count": 5,
      "outputs": [
        {
          "output_type": "execute_result",
          "data": {
            "text/plain": [
              "0     200*\n",
              "1      169\n",
              "2      164\n",
              "3      189\n",
              "4      144\n",
              "      ... \n",
              "74    133*\n",
              "75     96*\n",
              "76    120*\n",
              "77     156\n",
              "78     112\n",
              "Name: HS, Length: 79, dtype: object"
            ]
          },
          "metadata": {
            "tags": []
          },
          "execution_count": 5
        }
      ]
    },
    {
      "cell_type": "markdown",
      "metadata": {
        "id": "H7IIwqjSZA_-"
      },
      "source": [
        "because of star, which represents not out is the reason"
      ]
    },
    {
      "cell_type": "code",
      "metadata": {
        "colab": {
          "base_uri": "https://localhost:8080/"
        },
        "id": "EB1JU2GSY-x3",
        "outputId": "7126d730-bf69-4ba6-8ebe-e08847d6fbc5"
      },
      "source": [
        "df['HS'][df['HS'].apply(lambda x:isinstance(x,(int,float)))]"
      ],
      "execution_count": 6,
      "outputs": [
        {
          "output_type": "execute_result",
          "data": {
            "text/plain": [
              "Series([], Name: HS, dtype: object)"
            ]
          },
          "metadata": {
            "tags": []
          },
          "execution_count": 6
        }
      ]
    },
    {
      "cell_type": "markdown",
      "metadata": {
        "id": "mlcAJ9mXZ0zM"
      },
      "source": [
        "only objects filtering is not happening "
      ]
    },
    {
      "cell_type": "code",
      "metadata": {
        "id": "7ff0aCKWZYwI"
      },
      "source": [
        "def obj_num(x):\n",
        "    if type(x) is int:\n",
        "        return x\n",
        "    else:\n",
        "        return x.strip('*')"
      ],
      "execution_count": 7,
      "outputs": []
    },
    {
      "cell_type": "code",
      "metadata": {
        "id": "RVIJ4fDOah7T"
      },
      "source": [
        "df['HS']=df['HS'].apply(obj_num)"
      ],
      "execution_count": 8,
      "outputs": []
    },
    {
      "cell_type": "code",
      "metadata": {
        "id": "ZmSt22NJanBL"
      },
      "source": [
        "df['HS']=df['HS'].astype(int)"
      ],
      "execution_count": 9,
      "outputs": []
    },
    {
      "cell_type": "code",
      "metadata": {
        "colab": {
          "base_uri": "https://localhost:8080/"
        },
        "id": "PUV1js3JarvC",
        "outputId": "b8b60bbb-80c0-4352-c0ad-da1e2deed97c"
      },
      "source": [
        "df.info()"
      ],
      "execution_count": 10,
      "outputs": [
        {
          "output_type": "stream",
          "text": [
            "<class 'pandas.core.frame.DataFrame'>\n",
            "RangeIndex: 79 entries, 0 to 78\n",
            "Data columns (total 13 columns):\n",
            " #   Column  Non-Null Count  Dtype  \n",
            "---  ------  --------------  -----  \n",
            " 0   Player  79 non-null     object \n",
            " 1   Span    79 non-null     object \n",
            " 2   Mat     79 non-null     int64  \n",
            " 3   Inns    79 non-null     int64  \n",
            " 4   NO      79 non-null     int64  \n",
            " 5   Runs    79 non-null     int64  \n",
            " 6   HS      79 non-null     int64  \n",
            " 7   Ave     79 non-null     float64\n",
            " 8   BF      79 non-null     int64  \n",
            " 9   SR      79 non-null     float64\n",
            " 10  100     79 non-null     int64  \n",
            " 11  50      79 non-null     int64  \n",
            " 12  0       79 non-null     int64  \n",
            "dtypes: float64(2), int64(9), object(2)\n",
            "memory usage: 8.1+ KB\n"
          ],
          "name": "stdout"
        }
      ]
    },
    {
      "cell_type": "markdown",
      "metadata": {
        "id": "08rA571ndOud"
      },
      "source": [
        "# Data preparation"
      ]
    },
    {
      "cell_type": "markdown",
      "metadata": {
        "id": "U_ImY7mZbPJy"
      },
      "source": [
        "analyse the data by considering strike rate (SR) and batting average (Ave) as features by clustering"
      ]
    },
    {
      "cell_type": "code",
      "metadata": {
        "id": "r0zoj6rkbgo5"
      },
      "source": [
        "df1=df[['Player','Ave','SR']]"
      ],
      "execution_count": 11,
      "outputs": []
    },
    {
      "cell_type": "markdown",
      "metadata": {
        "id": "Vvzu8ORRdKfO"
      },
      "source": [
        "## scaling the data"
      ]
    },
    {
      "cell_type": "code",
      "metadata": {
        "id": "UAeEd8LHcDmL"
      },
      "source": [
        "scaler=StandardScaler()"
      ],
      "execution_count": 12,
      "outputs": []
    },
    {
      "cell_type": "code",
      "metadata": {
        "id": "kZSd0UOPdiQY"
      },
      "source": [
        "scaled_df1=df1.copy()\n",
        "scaled_df1[scaled_df1.columns.drop('Player')]=scaler.fit_transform(scaled_df1[scaled_df1.columns.drop('Player')])"
      ],
      "execution_count": 13,
      "outputs": []
    },
    {
      "cell_type": "code",
      "metadata": {
        "colab": {
          "base_uri": "https://localhost:8080/",
          "height": 198
        },
        "id": "s2TqOBTSduuq",
        "outputId": "2ec5e960-f041-4d46-fa95-5e8cf44b0890"
      },
      "source": [
        "scaled_df1.head()"
      ],
      "execution_count": 14,
      "outputs": [
        {
          "output_type": "execute_result",
          "data": {
            "text/html": [
              "<div>\n",
              "<style scoped>\n",
              "    .dataframe tbody tr th:only-of-type {\n",
              "        vertical-align: middle;\n",
              "    }\n",
              "\n",
              "    .dataframe tbody tr th {\n",
              "        vertical-align: top;\n",
              "    }\n",
              "\n",
              "    .dataframe thead th {\n",
              "        text-align: right;\n",
              "    }\n",
              "</style>\n",
              "<table border=\"1\" class=\"dataframe\">\n",
              "  <thead>\n",
              "    <tr style=\"text-align: right;\">\n",
              "      <th></th>\n",
              "      <th>Player</th>\n",
              "      <th>Ave</th>\n",
              "      <th>SR</th>\n",
              "    </tr>\n",
              "  </thead>\n",
              "  <tbody>\n",
              "    <tr>\n",
              "      <th>0</th>\n",
              "      <td>SR Tendulkar (INDIA)</td>\n",
              "      <td>1.072294</td>\n",
              "      <td>0.703152</td>\n",
              "    </tr>\n",
              "    <tr>\n",
              "      <th>1</th>\n",
              "      <td>KC Sangakkara (Asia/ICC/SL)</td>\n",
              "      <td>0.587725</td>\n",
              "      <td>-0.044139</td>\n",
              "    </tr>\n",
              "    <tr>\n",
              "      <th>2</th>\n",
              "      <td>RT Ponting (AUS/ICC)</td>\n",
              "      <td>0.596226</td>\n",
              "      <td>0.110997</td>\n",
              "    </tr>\n",
              "    <tr>\n",
              "      <th>3</th>\n",
              "      <td>ST Jayasuriya (Asia/SL)</td>\n",
              "      <td>-1.047909</td>\n",
              "      <td>1.207091</td>\n",
              "    </tr>\n",
              "    <tr>\n",
              "      <th>4</th>\n",
              "      <td>DPMD Jayawardene (Asia/SL)</td>\n",
              "      <td>-0.876185</td>\n",
              "      <td>-0.034000</td>\n",
              "    </tr>\n",
              "  </tbody>\n",
              "</table>\n",
              "</div>"
            ],
            "text/plain": [
              "                        Player       Ave        SR\n",
              "0         SR Tendulkar (INDIA)  1.072294  0.703152\n",
              "1  KC Sangakkara (Asia/ICC/SL)  0.587725 -0.044139\n",
              "2         RT Ponting (AUS/ICC)  0.596226  0.110997\n",
              "3      ST Jayasuriya (Asia/SL) -1.047909  1.207091\n",
              "4   DPMD Jayawardene (Asia/SL) -0.876185 -0.034000"
            ]
          },
          "metadata": {
            "tags": []
          },
          "execution_count": 14
        }
      ]
    },
    {
      "cell_type": "markdown",
      "metadata": {
        "id": "ecXAUG_td1nU"
      },
      "source": [
        "dropping player feature "
      ]
    },
    {
      "cell_type": "code",
      "metadata": {
        "id": "8rVIlUwnd4_Z"
      },
      "source": [
        "scaled_df2=scaled_df1.copy()"
      ],
      "execution_count": 15,
      "outputs": []
    },
    {
      "cell_type": "code",
      "metadata": {
        "id": "ap22EM3Hd_Dx"
      },
      "source": [
        "scaled_df2.drop('Player',axis=1,inplace=True)"
      ],
      "execution_count": 16,
      "outputs": []
    },
    {
      "cell_type": "markdown",
      "metadata": {
        "id": "IprXZfYKeHKA"
      },
      "source": [
        "# building model"
      ]
    },
    {
      "cell_type": "markdown",
      "metadata": {
        "id": "Jl5heliUeMmy"
      },
      "source": [
        "## clustering tendency (Hopkins Statistics)"
      ]
    },
    {
      "cell_type": "markdown",
      "metadata": {
        "id": "IcmxGBtheaA6"
      },
      "source": [
        "The Hopkins statistic, is a statistic which gives a value which indicates the cluster tendency, in other words: how well the data can be clustered.\n",
        "\n",
        "If the value is between {0.01, ...,0.3}, the data is regularly spaced.\n",
        "\n",
        "If the value is around 0.5, it is random.\n",
        "\n",
        "If the value is between {0.7, ..., 0.99}, it has a high tendency to cluster."
      ]
    },
    {
      "cell_type": "code",
      "metadata": {
        "id": "GaTYi0RmeDgI"
      },
      "source": [
        "from sklearn.neighbors import NearestNeighbors\n",
        "from random import sample\n",
        "from numpy.random import uniform\n",
        "from math import isnan\n",
        " \n",
        "def hopkins(X):\n",
        "    d = X.shape[1]\n",
        "    n=X.shape[0]\n",
        "    m = int(0.1 * n) \n",
        "    nbrs = NearestNeighbors(n_neighbors=1).fit(X.values)\n",
        " \n",
        "    rand_X = sample(range(0, n, 1), m)\n",
        " \n",
        "    ujd = []\n",
        "    wjd = []\n",
        "    for j in range(0, m):\n",
        "        u_dist, _ = nbrs.kneighbors(uniform(np.amin(X,axis=0),np.amax(X,axis=0),d).reshape(1, -1), 2, return_distance=True)\n",
        "        ujd.append(u_dist[0][1])\n",
        "        w_dist, _ = nbrs.kneighbors(X.iloc[rand_X[j]].values.reshape(1, -1), 2, return_distance=True)\n",
        "        wjd.append(w_dist[0][1])\n",
        " \n",
        "    H = sum(ujd) / (sum(ujd) + sum(wjd))\n",
        "    if isnan(H):\n",
        "        print(ujd, wjd)\n",
        "        H = 0\n",
        " \n",
        "    return H"
      ],
      "execution_count": 17,
      "outputs": []
    },
    {
      "cell_type": "code",
      "metadata": {
        "colab": {
          "base_uri": "https://localhost:8080/"
        },
        "id": "_MubzQkneXPi",
        "outputId": "5655bdeb-3f25-41d9-fa73-6d330f73c0c3"
      },
      "source": [
        "hopkins(scaled_df2)"
      ],
      "execution_count": 18,
      "outputs": [
        {
          "output_type": "execute_result",
          "data": {
            "text/plain": [
              "0.8661520338478825"
            ]
          },
          "metadata": {
            "tags": []
          },
          "execution_count": 18
        }
      ]
    },
    {
      "cell_type": "markdown",
      "metadata": {
        "id": "KlN9QAuIeldS"
      },
      "source": [
        "## elbow method to find optimal clusters"
      ]
    },
    {
      "cell_type": "code",
      "metadata": {
        "colab": {
          "base_uri": "https://localhost:8080/",
          "height": 296
        },
        "id": "PbB6X9Hsehli",
        "outputId": "62d49d81-f45e-42f1-e963-4b5c4daddafd"
      },
      "source": [
        "elbow=[]\n",
        "for i in range(2,6):\n",
        "    kmeans=KMeans(n_clusters=i,random_state=42,max_iter=50)\n",
        "    kmeans.fit(scaled_df2)\n",
        "    elbow.append(kmeans.inertia_)\n",
        "sns.lineplot(x=range(2,6),y=elbow)\n",
        "plt.xlabel('number of clusters')\n",
        "plt.ylabel('cost function')"
      ],
      "execution_count": 19,
      "outputs": [
        {
          "output_type": "execute_result",
          "data": {
            "text/plain": [
              "Text(0, 0.5, 'cost function')"
            ]
          },
          "metadata": {
            "tags": []
          },
          "execution_count": 19
        },
        {
          "output_type": "display_data",
          "data": {
            "image/png": "[encoded data removed]",
            "text/plain": [
              "<Figure size 432x288 with 1 Axes>"
            ]
          },
          "metadata": {
            "tags": [],
            "needs_background": "light"
          }
        }
      ]
    },
    {
      "cell_type": "markdown",
      "metadata": {
        "id": "h4338DVygHti"
      },
      "source": [
        "as per above plot 4 is the optimal number of clusters. <br>\n",
        "lets check sihoutte method also"
      ]
    },
    {
      "cell_type": "markdown",
      "metadata": {
        "id": "1TuzZ1zffdhM"
      },
      "source": [
        "## checking silhoutte method"
      ]
    },
    {
      "cell_type": "code",
      "metadata": {
        "colab": {
          "base_uri": "https://localhost:8080/"
        },
        "id": "vNata-iSfFEF",
        "outputId": "a0dc6a1f-94e2-4760-c2f9-52fc971a7916"
      },
      "source": [
        "for i in range(2,7):\n",
        "    kmeans=KMeans(n_clusters=i,random_state=42,max_iter=50)\n",
        "    kmeans.fit(scaled_df2)\n",
        "    sil_avg=silhouette_score(scaled_df2,kmeans.labels_)\n",
        "    print(\"For n_clusters={0}, the silhouette score is {1}\".format(i, sil_avg))"
      ],
      "execution_count": 20,
      "outputs": [
        {
          "output_type": "stream",
          "text": [
            "For n_clusters=2, the silhouette score is 0.37632823237612395\n",
            "For n_clusters=3, the silhouette score is 0.37185804193936567\n",
            "For n_clusters=4, the silhouette score is 0.3836904829421138\n",
            "For n_clusters=5, the silhouette score is 0.36941231708738775\n",
            "For n_clusters=6, the silhouette score is 0.37992910667909674\n"
          ],
          "name": "stdout"
        }
      ]
    },
    {
      "cell_type": "markdown",
      "metadata": {
        "id": "R5jgn2NogRmC"
      },
      "source": [
        "as per silhoute method also 4 is the optimal number. <br>\n",
        "so we will go with 4 clusters"
      ]
    },
    {
      "cell_type": "markdown",
      "metadata": {
        "id": "g_9Z6ivLgZ8a"
      },
      "source": [
        "## building 4 clusters "
      ]
    },
    {
      "cell_type": "code",
      "metadata": {
        "colab": {
          "base_uri": "https://localhost:8080/"
        },
        "id": "H4Ow1pokf-ch",
        "outputId": "1b2375b0-d5fa-4d4a-da6f-caffd725a511"
      },
      "source": [
        "kmeans=KMeans(n_clusters=4,max_iter=50)\n",
        "kmeans.fit(scaled_df2)"
      ],
      "execution_count": 21,
      "outputs": [
        {
          "output_type": "execute_result",
          "data": {
            "text/plain": [
              "KMeans(algorithm='auto', copy_x=True, init='k-means++', max_iter=50,\n",
              "       n_clusters=4, n_init=10, n_jobs=None, precompute_distances='auto',\n",
              "       random_state=None, tol=0.0001, verbose=0)"
            ]
          },
          "metadata": {
            "tags": []
          },
          "execution_count": 21
        }
      ]
    },
    {
      "cell_type": "markdown",
      "metadata": {
        "id": "SwfgxRzzgvGa"
      },
      "source": [
        "## assigning the labels to df"
      ]
    },
    {
      "cell_type": "code",
      "metadata": {
        "colab": {
          "base_uri": "https://localhost:8080/",
          "height": 302
        },
        "id": "rezEtN7lgmaz",
        "outputId": "7241791a-a847-4a6c-819f-49dc422d41c5"
      },
      "source": [
        "df1['labels']=kmeans.labels_\n",
        "df1.head()"
      ],
      "execution_count": 22,
      "outputs": [
        {
          "output_type": "stream",
          "text": [
            "/usr/local/lib/python3.6/dist-packages/ipykernel_launcher.py:1: SettingWithCopyWarning: \n",
            "A value is trying to be set on a copy of a slice from a DataFrame.\n",
            "Try using .loc[row_indexer,col_indexer] = value instead\n",
            "\n",
            "See the caveats in the documentation: https://pandas.pydata.org/pandas-docs/stable/user_guide/indexing.html#returning-a-view-versus-a-copy\n",
            "  \"\"\"Entry point for launching an IPython kernel.\n"
          ],
          "name": "stderr"
        },
        {
          "output_type": "execute_result",
          "data": {
            "text/html": [
              "<div>\n",
              "<style scoped>\n",
              "    .dataframe tbody tr th:only-of-type {\n",
              "        vertical-align: middle;\n",
              "    }\n",
              "\n",
              "    .dataframe tbody tr th {\n",
              "        vertical-align: top;\n",
              "    }\n",
              "\n",
              "    .dataframe thead th {\n",
              "        text-align: right;\n",
              "    }\n",
              "</style>\n",
              "<table border=\"1\" class=\"dataframe\">\n",
              "  <thead>\n",
              "    <tr style=\"text-align: right;\">\n",
              "      <th></th>\n",
              "      <th>Player</th>\n",
              "      <th>Ave</th>\n",
              "      <th>SR</th>\n",
              "      <th>labels</th>\n",
              "    </tr>\n",
              "  </thead>\n",
              "  <tbody>\n",
              "    <tr>\n",
              "      <th>0</th>\n",
              "      <td>SR Tendulkar (INDIA)</td>\n",
              "      <td>44.83</td>\n",
              "      <td>86.23</td>\n",
              "      <td>3</td>\n",
              "    </tr>\n",
              "    <tr>\n",
              "      <th>1</th>\n",
              "      <td>KC Sangakkara (Asia/ICC/SL)</td>\n",
              "      <td>41.98</td>\n",
              "      <td>78.86</td>\n",
              "      <td>0</td>\n",
              "    </tr>\n",
              "    <tr>\n",
              "      <th>2</th>\n",
              "      <td>RT Ponting (AUS/ICC)</td>\n",
              "      <td>42.03</td>\n",
              "      <td>80.39</td>\n",
              "      <td>0</td>\n",
              "    </tr>\n",
              "    <tr>\n",
              "      <th>3</th>\n",
              "      <td>ST Jayasuriya (Asia/SL)</td>\n",
              "      <td>32.36</td>\n",
              "      <td>91.20</td>\n",
              "      <td>2</td>\n",
              "    </tr>\n",
              "    <tr>\n",
              "      <th>4</th>\n",
              "      <td>DPMD Jayawardene (Asia/SL)</td>\n",
              "      <td>33.37</td>\n",
              "      <td>78.96</td>\n",
              "      <td>1</td>\n",
              "    </tr>\n",
              "  </tbody>\n",
              "</table>\n",
              "</div>"
            ],
            "text/plain": [
              "                        Player    Ave     SR  labels\n",
              "0         SR Tendulkar (INDIA)  44.83  86.23       3\n",
              "1  KC Sangakkara (Asia/ICC/SL)  41.98  78.86       0\n",
              "2         RT Ponting (AUS/ICC)  42.03  80.39       0\n",
              "3      ST Jayasuriya (Asia/SL)  32.36  91.20       2\n",
              "4   DPMD Jayawardene (Asia/SL)  33.37  78.96       1"
            ]
          },
          "metadata": {
            "tags": []
          },
          "execution_count": 22
        }
      ]
    },
    {
      "cell_type": "markdown",
      "metadata": {
        "id": "ZMQYdHzbhROR"
      },
      "source": [
        "# analysing the clusters"
      ]
    },
    {
      "cell_type": "code",
      "metadata": {
        "colab": {
          "base_uri": "https://localhost:8080/",
          "height": 352
        },
        "id": "gBEh8GdZhaSx",
        "outputId": "0756d000-832d-4679-dcd8-435a0fb63e8d"
      },
      "source": [
        "sns.scatterplot(df1['SR'],df1['Ave'],hue=df1['labels'],palette=['green','orange','brown','red'])"
      ],
      "execution_count": 23,
      "outputs": [
        {
          "output_type": "stream",
          "text": [
            "/usr/local/lib/python3.6/dist-packages/seaborn/_decorators.py:43: FutureWarning: Pass the following variables as keyword args: x, y. From version 0.12, the only valid positional argument will be `data`, and passing other arguments without an explicit keyword will result in an error or misinterpretation.\n",
            "  FutureWarning\n"
          ],
          "name": "stderr"
        },
        {
          "output_type": "execute_result",
          "data": {
            "text/plain": [
              "<matplotlib.axes._subplots.AxesSubplot at 0x7f1a8b29bc50>"
            ]
          },
          "metadata": {
            "tags": []
          },
          "execution_count": 23
        },
        {
          "output_type": "display_data",
          "data": {
            "image/png": "[encoded data removed]",
            "text/plain": [
              "<Figure size 432x288 with 1 Axes>"
            ]
          },
          "metadata": {
            "tags": [],
            "needs_background": "light"
          }
        }
      ]
    },
    {
      "cell_type": "markdown",
      "metadata": {
        "id": "XLaP_9Rxh-6x"
      },
      "source": [
        "## observations from the above scatter plot\n",
        "* label 0 $\\rightarrow$ Low average and low strike rate\n",
        "* label 1 $\\rightarrow$ High average and High strike rate\n",
        "* label 2 $\\rightarrow$ High average and low strike rate\n",
        "- label 3 $\\rightarrow$ Low average and High strike rate"
      ]
    },
    {
      "cell_type": "markdown",
      "metadata": {
        "id": "fEexz5MWiu6C"
      },
      "source": [
        "checking High average and High strike rate group"
      ]
    },
    {
      "cell_type": "code",
      "metadata": {
        "colab": {
          "base_uri": "https://localhost:8080/"
        },
        "id": "2UxVCK8YiDeu",
        "outputId": "7e7e9458-c03a-4681-fb7e-d68b0ce06c80"
      },
      "source": [
        "df1['Player'][df1['labels']==1]"
      ],
      "execution_count": 24,
      "outputs": [
        {
          "output_type": "execute_result",
          "data": {
            "text/plain": [
              "4     DPMD Jayawardene (Asia/SL)\n",
              "14          M Azharuddin (INDIA)\n",
              "16              PA de Silva (SL)\n",
              "22              MS Atapattu (SL)\n",
              "26                 HH Gibbs (SA)\n",
              "28           SP Fleming (ICC/NZ)\n",
              "30                SR Waugh (AUS)\n",
              "31              A Ranatunga (SL)\n",
              "33             Younis Khan (PAK)\n",
              "35            Saleem Malik (PAK)\n",
              "36                 NJ Astle (NZ)\n",
              "40                A Flower (ZIM)\n",
              "41            Shoaib Malik (PAK)\n",
              "43               GW Flower (ZIM)\n",
              "44              Ijaz Ahmed (PAK)\n",
              "45               AR Border (AUS)\n",
              "47            RB Richardson (WI)\n",
              "48         WU Tharanga (Asia/SL)\n",
              "52                 DC Boon (AUS)\n",
              "53                JN Rhodes (SA)\n",
              "54         Mohammad Hafeez (PAK)\n",
              "55             Rameez Raja (PAK)\n",
              "58                CL Hooper (WI)\n",
              "60           Tamim Iqbal (BDESH)\n",
              "67              A Jadeja (INDIA)\n",
              "69              BRM Taylor (ZIM)\n",
              "71            ADR Campbell (ZIM)\n",
              "72               MN Samuels (WI)\n",
              "73              RS Mahanama (SL)\n",
              "76          PD Collingwood (ENG)\n",
              "78       Abdul Razzaq (Asia/PAK)\n",
              "Name: Player, dtype: object"
            ]
          },
          "metadata": {
            "tags": []
          },
          "execution_count": 24
        }
      ]
    },
    {
      "cell_type": "markdown",
      "metadata": {
        "id": "PBmwnsSWy3Ea"
      },
      "source": [
        "building Hierarchical clustering"
      ]
    },
    {
      "cell_type": "code",
      "metadata": {
        "id": "b_P3LdBdi6sX",
        "colab": {
          "base_uri": "https://localhost:8080/",
          "height": 482
        },
        "outputId": "26315e42-fcdf-4fec-8d3e-5473fc0ddb72"
      },
      "source": [
        "hier_clus=linkage(scaled_df2,method='complete',metric='euclidean')\n",
        "plt.figure(figsize=(12,8))\n",
        "dendrogram(hier_clus)\n",
        "plt.show()"
      ],
      "execution_count": 28,
      "outputs": [
        {
          "output_type": "display_data",
          "data": {
            "image/png": "[encoded data removed]",
            "text/plain": [
              "<Figure size 864x576 with 1 Axes>"
            ]
          },
          "metadata": {
            "tags": [],
            "needs_background": "light"
          }
        }
      ]
    },
    {
      "cell_type": "code",
      "metadata": {
        "id": "_VfurDdPy7eZ"
      },
      "source": [
        "hier_clus_cut=cut_tree(hier_clus,4)\n",
        "hier_clus_cut=hier_clus_cut.reshape(-1, )"
      ],
      "execution_count": 29,
      "outputs": []
    },
    {
      "cell_type": "code",
      "metadata": {
        "colab": {
          "base_uri": "https://localhost:8080/",
          "height": 511
        },
        "id": "r4dWRvzWz3kj",
        "outputId": "4dd38f41-8656-44c4-b42b-1e7295c9aa63"
      },
      "source": [
        "df1['hier_lab']=hier_clus_cut\n",
        "df1"
      ],
      "execution_count": 30,
      "outputs": [
        {
          "output_type": "stream",
          "text": [
            "/usr/local/lib/python3.6/dist-packages/ipykernel_launcher.py:1: SettingWithCopyWarning: \n",
            "A value is trying to be set on a copy of a slice from a DataFrame.\n",
            "Try using .loc[row_indexer,col_indexer] = value instead\n",
            "\n",
            "See the caveats in the documentation: https://pandas.pydata.org/pandas-docs/stable/user_guide/indexing.html#returning-a-view-versus-a-copy\n",
            "  \"\"\"Entry point for launching an IPython kernel.\n"
          ],
          "name": "stderr"
        },
        {
          "output_type": "execute_result",
          "data": {
            "text/html": [
              "<div>\n",
              "<style scoped>\n",
              "    .dataframe tbody tr th:only-of-type {\n",
              "        vertical-align: middle;\n",
              "    }\n",
              "\n",
              "    .dataframe tbody tr th {\n",
              "        vertical-align: top;\n",
              "    }\n",
              "\n",
              "    .dataframe thead th {\n",
              "        text-align: right;\n",
              "    }\n",
              "</style>\n",
              "<table border=\"1\" class=\"dataframe\">\n",
              "  <thead>\n",
              "    <tr style=\"text-align: right;\">\n",
              "      <th></th>\n",
              "      <th>Player</th>\n",
              "      <th>Ave</th>\n",
              "      <th>SR</th>\n",
              "      <th>labels</th>\n",
              "      <th>hier_lab</th>\n",
              "    </tr>\n",
              "  </thead>\n",
              "  <tbody>\n",
              "    <tr>\n",
              "      <th>0</th>\n",
              "      <td>SR Tendulkar (INDIA)</td>\n",
              "      <td>44.83</td>\n",
              "      <td>86.23</td>\n",
              "      <td>3</td>\n",
              "      <td>0</td>\n",
              "    </tr>\n",
              "    <tr>\n",
              "      <th>1</th>\n",
              "      <td>KC Sangakkara (Asia/ICC/SL)</td>\n",
              "      <td>41.98</td>\n",
              "      <td>78.86</td>\n",
              "      <td>0</td>\n",
              "      <td>0</td>\n",
              "    </tr>\n",
              "    <tr>\n",
              "      <th>2</th>\n",
              "      <td>RT Ponting (AUS/ICC)</td>\n",
              "      <td>42.03</td>\n",
              "      <td>80.39</td>\n",
              "      <td>0</td>\n",
              "      <td>0</td>\n",
              "    </tr>\n",
              "    <tr>\n",
              "      <th>3</th>\n",
              "      <td>ST Jayasuriya (Asia/SL)</td>\n",
              "      <td>32.36</td>\n",
              "      <td>91.20</td>\n",
              "      <td>2</td>\n",
              "      <td>1</td>\n",
              "    </tr>\n",
              "    <tr>\n",
              "      <th>4</th>\n",
              "      <td>DPMD Jayawardene (Asia/SL)</td>\n",
              "      <td>33.37</td>\n",
              "      <td>78.96</td>\n",
              "      <td>1</td>\n",
              "      <td>2</td>\n",
              "    </tr>\n",
              "    <tr>\n",
              "      <th>...</th>\n",
              "      <td>...</td>\n",
              "      <td>...</td>\n",
              "      <td>...</td>\n",
              "      <td>...</td>\n",
              "      <td>...</td>\n",
              "    </tr>\n",
              "    <tr>\n",
              "      <th>74</th>\n",
              "      <td>CG Greenidge (WI)</td>\n",
              "      <td>45.03</td>\n",
              "      <td>64.92</td>\n",
              "      <td>0</td>\n",
              "      <td>0</td>\n",
              "    </tr>\n",
              "    <tr>\n",
              "      <th>75</th>\n",
              "      <td>Misbah-ul-Haq (PAK)</td>\n",
              "      <td>43.40</td>\n",
              "      <td>73.75</td>\n",
              "      <td>0</td>\n",
              "      <td>0</td>\n",
              "    </tr>\n",
              "    <tr>\n",
              "      <th>76</th>\n",
              "      <td>PD Collingwood (ENG)</td>\n",
              "      <td>35.36</td>\n",
              "      <td>76.98</td>\n",
              "      <td>1</td>\n",
              "      <td>2</td>\n",
              "    </tr>\n",
              "    <tr>\n",
              "      <th>77</th>\n",
              "      <td>A Symonds (AUS)</td>\n",
              "      <td>39.75</td>\n",
              "      <td>92.44</td>\n",
              "      <td>2</td>\n",
              "      <td>0</td>\n",
              "    </tr>\n",
              "    <tr>\n",
              "      <th>78</th>\n",
              "      <td>Abdul Razzaq (Asia/PAK)</td>\n",
              "      <td>29.70</td>\n",
              "      <td>81.25</td>\n",
              "      <td>1</td>\n",
              "      <td>2</td>\n",
              "    </tr>\n",
              "  </tbody>\n",
              "</table>\n",
              "<p>79 rows × 5 columns</p>\n",
              "</div>"
            ],
            "text/plain": [
              "                         Player    Ave     SR  labels  hier_lab\n",
              "0          SR Tendulkar (INDIA)  44.83  86.23       3         0\n",
              "1   KC Sangakkara (Asia/ICC/SL)  41.98  78.86       0         0\n",
              "2          RT Ponting (AUS/ICC)  42.03  80.39       0         0\n",
              "3       ST Jayasuriya (Asia/SL)  32.36  91.20       2         1\n",
              "4    DPMD Jayawardene (Asia/SL)  33.37  78.96       1         2\n",
              "..                          ...    ...    ...     ...       ...\n",
              "74            CG Greenidge (WI)  45.03  64.92       0         0\n",
              "75          Misbah-ul-Haq (PAK)  43.40  73.75       0         0\n",
              "76         PD Collingwood (ENG)  35.36  76.98       1         2\n",
              "77              A Symonds (AUS)  39.75  92.44       2         0\n",
              "78      Abdul Razzaq (Asia/PAK)  29.70  81.25       1         2\n",
              "\n",
              "[79 rows x 5 columns]"
            ]
          },
          "metadata": {
            "tags": []
          },
          "execution_count": 30
        }
      ]
    },
    {
      "cell_type": "code",
      "metadata": {
        "colab": {
          "base_uri": "https://localhost:8080/",
          "height": 1000
        },
        "id": "6uUN69uvz-Zm",
        "outputId": "83b2251b-5641-42f3-ca4f-29238a6b260e"
      },
      "source": [
        "df1[df1['hier_lab']==0]"
      ],
      "execution_count": 31,
      "outputs": [
        {
          "output_type": "execute_result",
          "data": {
            "text/html": [
              "<div>\n",
              "<style scoped>\n",
              "    .dataframe tbody tr th:only-of-type {\n",
              "        vertical-align: middle;\n",
              "    }\n",
              "\n",
              "    .dataframe tbody tr th {\n",
              "        vertical-align: top;\n",
              "    }\n",
              "\n",
              "    .dataframe thead th {\n",
              "        text-align: right;\n",
              "    }\n",
              "</style>\n",
              "<table border=\"1\" class=\"dataframe\">\n",
              "  <thead>\n",
              "    <tr style=\"text-align: right;\">\n",
              "      <th></th>\n",
              "      <th>Player</th>\n",
              "      <th>Ave</th>\n",
              "      <th>SR</th>\n",
              "      <th>labels</th>\n",
              "      <th>hier_lab</th>\n",
              "    </tr>\n",
              "  </thead>\n",
              "  <tbody>\n",
              "    <tr>\n",
              "      <th>0</th>\n",
              "      <td>SR Tendulkar (INDIA)</td>\n",
              "      <td>44.83</td>\n",
              "      <td>86.23</td>\n",
              "      <td>3</td>\n",
              "      <td>0</td>\n",
              "    </tr>\n",
              "    <tr>\n",
              "      <th>1</th>\n",
              "      <td>KC Sangakkara (Asia/ICC/SL)</td>\n",
              "      <td>41.98</td>\n",
              "      <td>78.86</td>\n",
              "      <td>0</td>\n",
              "      <td>0</td>\n",
              "    </tr>\n",
              "    <tr>\n",
              "      <th>2</th>\n",
              "      <td>RT Ponting (AUS/ICC)</td>\n",
              "      <td>42.03</td>\n",
              "      <td>80.39</td>\n",
              "      <td>0</td>\n",
              "      <td>0</td>\n",
              "    </tr>\n",
              "    <tr>\n",
              "      <th>5</th>\n",
              "      <td>Inzamam-ul-Haq (Asia/PAK)</td>\n",
              "      <td>39.52</td>\n",
              "      <td>74.24</td>\n",
              "      <td>0</td>\n",
              "      <td>0</td>\n",
              "    </tr>\n",
              "    <tr>\n",
              "      <th>6</th>\n",
              "      <td>JH Kallis (Afr/ICC/SA)</td>\n",
              "      <td>44.36</td>\n",
              "      <td>72.89</td>\n",
              "      <td>0</td>\n",
              "      <td>0</td>\n",
              "    </tr>\n",
              "    <tr>\n",
              "      <th>7</th>\n",
              "      <td>SC Ganguly (Asia/INDIA)</td>\n",
              "      <td>41.02</td>\n",
              "      <td>73.70</td>\n",
              "      <td>0</td>\n",
              "      <td>0</td>\n",
              "    </tr>\n",
              "    <tr>\n",
              "      <th>8</th>\n",
              "      <td>R Dravid (Asia/ICC/INDIA)</td>\n",
              "      <td>39.16</td>\n",
              "      <td>71.24</td>\n",
              "      <td>0</td>\n",
              "      <td>0</td>\n",
              "    </tr>\n",
              "    <tr>\n",
              "      <th>9</th>\n",
              "      <td>BC Lara (ICC/WI)</td>\n",
              "      <td>40.48</td>\n",
              "      <td>79.51</td>\n",
              "      <td>0</td>\n",
              "      <td>0</td>\n",
              "    </tr>\n",
              "    <tr>\n",
              "      <th>10</th>\n",
              "      <td>TM Dilshan (SL)</td>\n",
              "      <td>39.27</td>\n",
              "      <td>86.23</td>\n",
              "      <td>2</td>\n",
              "      <td>0</td>\n",
              "    </tr>\n",
              "    <tr>\n",
              "      <th>11</th>\n",
              "      <td>Mohammad Yousuf (Asia/PAK)</td>\n",
              "      <td>41.71</td>\n",
              "      <td>75.10</td>\n",
              "      <td>0</td>\n",
              "      <td>0</td>\n",
              "    </tr>\n",
              "    <tr>\n",
              "      <th>17</th>\n",
              "      <td>CH Gayle (ICC/WI)</td>\n",
              "      <td>37.33</td>\n",
              "      <td>85.11</td>\n",
              "      <td>2</td>\n",
              "      <td>0</td>\n",
              "    </tr>\n",
              "    <tr>\n",
              "      <th>18</th>\n",
              "      <td>Saeed Anwar (PAK)</td>\n",
              "      <td>39.21</td>\n",
              "      <td>80.67</td>\n",
              "      <td>0</td>\n",
              "      <td>0</td>\n",
              "    </tr>\n",
              "    <tr>\n",
              "      <th>19</th>\n",
              "      <td>S Chanderpaul (WI)</td>\n",
              "      <td>41.60</td>\n",
              "      <td>70.74</td>\n",
              "      <td>0</td>\n",
              "      <td>0</td>\n",
              "    </tr>\n",
              "    <tr>\n",
              "      <th>20</th>\n",
              "      <td>Yuvraj Singh (Asia/INDIA)</td>\n",
              "      <td>36.55</td>\n",
              "      <td>87.67</td>\n",
              "      <td>2</td>\n",
              "      <td>0</td>\n",
              "    </tr>\n",
              "    <tr>\n",
              "      <th>21</th>\n",
              "      <td>DL Haynes (WI)</td>\n",
              "      <td>41.37</td>\n",
              "      <td>63.09</td>\n",
              "      <td>0</td>\n",
              "      <td>0</td>\n",
              "    </tr>\n",
              "    <tr>\n",
              "      <th>22</th>\n",
              "      <td>MS Atapattu (SL)</td>\n",
              "      <td>37.57</td>\n",
              "      <td>67.72</td>\n",
              "      <td>1</td>\n",
              "      <td>0</td>\n",
              "    </tr>\n",
              "    <tr>\n",
              "      <th>23</th>\n",
              "      <td>ME Waugh (AUS)</td>\n",
              "      <td>39.35</td>\n",
              "      <td>76.90</td>\n",
              "      <td>0</td>\n",
              "      <td>0</td>\n",
              "    </tr>\n",
              "    <tr>\n",
              "      <th>26</th>\n",
              "      <td>HH Gibbs (SA)</td>\n",
              "      <td>36.13</td>\n",
              "      <td>83.26</td>\n",
              "      <td>1</td>\n",
              "      <td>0</td>\n",
              "    </tr>\n",
              "    <tr>\n",
              "      <th>29</th>\n",
              "      <td>MJ Clarke (AUS)</td>\n",
              "      <td>44.58</td>\n",
              "      <td>78.98</td>\n",
              "      <td>0</td>\n",
              "      <td>0</td>\n",
              "    </tr>\n",
              "    <tr>\n",
              "      <th>32</th>\n",
              "      <td>Javed Miandad (PAK)</td>\n",
              "      <td>41.70</td>\n",
              "      <td>67.01</td>\n",
              "      <td>0</td>\n",
              "      <td>0</td>\n",
              "    </tr>\n",
              "    <tr>\n",
              "      <th>37</th>\n",
              "      <td>GC Smith (Afr/SA)</td>\n",
              "      <td>37.98</td>\n",
              "      <td>80.81</td>\n",
              "      <td>0</td>\n",
              "      <td>0</td>\n",
              "    </tr>\n",
              "    <tr>\n",
              "      <th>39</th>\n",
              "      <td>G Kirsten (SA)</td>\n",
              "      <td>40.95</td>\n",
              "      <td>72.04</td>\n",
              "      <td>0</td>\n",
              "      <td>0</td>\n",
              "    </tr>\n",
              "    <tr>\n",
              "      <th>42</th>\n",
              "      <td>IVA Richards (WI)</td>\n",
              "      <td>47.00</td>\n",
              "      <td>90.20</td>\n",
              "      <td>3</td>\n",
              "      <td>0</td>\n",
              "    </tr>\n",
              "    <tr>\n",
              "      <th>46</th>\n",
              "      <td>LRPL Taylor (NZ)</td>\n",
              "      <td>44.12</td>\n",
              "      <td>82.03</td>\n",
              "      <td>0</td>\n",
              "      <td>0</td>\n",
              "    </tr>\n",
              "    <tr>\n",
              "      <th>49</th>\n",
              "      <td>ML Hayden (AUS/ICC)</td>\n",
              "      <td>43.80</td>\n",
              "      <td>78.96</td>\n",
              "      <td>0</td>\n",
              "      <td>0</td>\n",
              "    </tr>\n",
              "    <tr>\n",
              "      <th>51</th>\n",
              "      <td>DM Jones (AUS)</td>\n",
              "      <td>44.61</td>\n",
              "      <td>72.56</td>\n",
              "      <td>0</td>\n",
              "      <td>0</td>\n",
              "    </tr>\n",
              "    <tr>\n",
              "      <th>52</th>\n",
              "      <td>DC Boon (AUS)</td>\n",
              "      <td>37.04</td>\n",
              "      <td>65.13</td>\n",
              "      <td>1</td>\n",
              "      <td>0</td>\n",
              "    </tr>\n",
              "    <tr>\n",
              "      <th>56</th>\n",
              "      <td>RR Sarwan (WI)</td>\n",
              "      <td>42.67</td>\n",
              "      <td>75.74</td>\n",
              "      <td>0</td>\n",
              "      <td>0</td>\n",
              "    </tr>\n",
              "    <tr>\n",
              "      <th>57</th>\n",
              "      <td>EJG Morgan (ENG/IRE)</td>\n",
              "      <td>38.73</td>\n",
              "      <td>88.62</td>\n",
              "      <td>2</td>\n",
              "      <td>0</td>\n",
              "    </tr>\n",
              "    <tr>\n",
              "      <th>59</th>\n",
              "      <td>SR Watson (AUS)</td>\n",
              "      <td>40.54</td>\n",
              "      <td>90.44</td>\n",
              "      <td>2</td>\n",
              "      <td>0</td>\n",
              "    </tr>\n",
              "    <tr>\n",
              "      <th>62</th>\n",
              "      <td>WJ Cronje (SA)</td>\n",
              "      <td>38.64</td>\n",
              "      <td>76.47</td>\n",
              "      <td>0</td>\n",
              "      <td>0</td>\n",
              "    </tr>\n",
              "    <tr>\n",
              "      <th>63</th>\n",
              "      <td>MJ Guptill (NZ)</td>\n",
              "      <td>43.30</td>\n",
              "      <td>87.73</td>\n",
              "      <td>3</td>\n",
              "      <td>0</td>\n",
              "    </tr>\n",
              "    <tr>\n",
              "      <th>64</th>\n",
              "      <td>MEK Hussey (AUS)</td>\n",
              "      <td>48.15</td>\n",
              "      <td>87.16</td>\n",
              "      <td>3</td>\n",
              "      <td>0</td>\n",
              "    </tr>\n",
              "    <tr>\n",
              "      <th>65</th>\n",
              "      <td>RG Sharma (INDIA)</td>\n",
              "      <td>42.46</td>\n",
              "      <td>84.56</td>\n",
              "      <td>0</td>\n",
              "      <td>0</td>\n",
              "    </tr>\n",
              "    <tr>\n",
              "      <th>66</th>\n",
              "      <td>IR Bell (ENG)</td>\n",
              "      <td>37.87</td>\n",
              "      <td>77.16</td>\n",
              "      <td>0</td>\n",
              "      <td>0</td>\n",
              "    </tr>\n",
              "    <tr>\n",
              "      <th>67</th>\n",
              "      <td>A Jadeja (INDIA)</td>\n",
              "      <td>37.47</td>\n",
              "      <td>69.80</td>\n",
              "      <td>1</td>\n",
              "      <td>0</td>\n",
              "    </tr>\n",
              "    <tr>\n",
              "      <th>68</th>\n",
              "      <td>DR Martyn (AUS)</td>\n",
              "      <td>40.80</td>\n",
              "      <td>77.73</td>\n",
              "      <td>0</td>\n",
              "      <td>0</td>\n",
              "    </tr>\n",
              "    <tr>\n",
              "      <th>70</th>\n",
              "      <td>G Gambhir (INDIA)</td>\n",
              "      <td>39.68</td>\n",
              "      <td>85.25</td>\n",
              "      <td>0</td>\n",
              "      <td>0</td>\n",
              "    </tr>\n",
              "    <tr>\n",
              "      <th>74</th>\n",
              "      <td>CG Greenidge (WI)</td>\n",
              "      <td>45.03</td>\n",
              "      <td>64.92</td>\n",
              "      <td>0</td>\n",
              "      <td>0</td>\n",
              "    </tr>\n",
              "    <tr>\n",
              "      <th>75</th>\n",
              "      <td>Misbah-ul-Haq (PAK)</td>\n",
              "      <td>43.40</td>\n",
              "      <td>73.75</td>\n",
              "      <td>0</td>\n",
              "      <td>0</td>\n",
              "    </tr>\n",
              "    <tr>\n",
              "      <th>77</th>\n",
              "      <td>A Symonds (AUS)</td>\n",
              "      <td>39.75</td>\n",
              "      <td>92.44</td>\n",
              "      <td>2</td>\n",
              "      <td>0</td>\n",
              "    </tr>\n",
              "  </tbody>\n",
              "</table>\n",
              "</div>"
            ],
            "text/plain": [
              "                         Player    Ave     SR  labels  hier_lab\n",
              "0          SR Tendulkar (INDIA)  44.83  86.23       3         0\n",
              "1   KC Sangakkara (Asia/ICC/SL)  41.98  78.86       0         0\n",
              "2          RT Ponting (AUS/ICC)  42.03  80.39       0         0\n",
              "5     Inzamam-ul-Haq (Asia/PAK)  39.52  74.24       0         0\n",
              "6        JH Kallis (Afr/ICC/SA)  44.36  72.89       0         0\n",
              "7       SC Ganguly (Asia/INDIA)  41.02  73.70       0         0\n",
              "8     R Dravid (Asia/ICC/INDIA)  39.16  71.24       0         0\n",
              "9              BC Lara (ICC/WI)  40.48  79.51       0         0\n",
              "10              TM Dilshan (SL)  39.27  86.23       2         0\n",
              "11   Mohammad Yousuf (Asia/PAK)  41.71  75.10       0         0\n",
              "17            CH Gayle (ICC/WI)  37.33  85.11       2         0\n",
              "18            Saeed Anwar (PAK)  39.21  80.67       0         0\n",
              "19           S Chanderpaul (WI)  41.60  70.74       0         0\n",
              "20    Yuvraj Singh (Asia/INDIA)  36.55  87.67       2         0\n",
              "21               DL Haynes (WI)  41.37  63.09       0         0\n",
              "22             MS Atapattu (SL)  37.57  67.72       1         0\n",
              "23               ME Waugh (AUS)  39.35  76.90       0         0\n",
              "26                HH Gibbs (SA)  36.13  83.26       1         0\n",
              "29              MJ Clarke (AUS)  44.58  78.98       0         0\n",
              "32          Javed Miandad (PAK)  41.70  67.01       0         0\n",
              "37            GC Smith (Afr/SA)  37.98  80.81       0         0\n",
              "39               G Kirsten (SA)  40.95  72.04       0         0\n",
              "42            IVA Richards (WI)  47.00  90.20       3         0\n",
              "46             LRPL Taylor (NZ)  44.12  82.03       0         0\n",
              "49          ML Hayden (AUS/ICC)  43.80  78.96       0         0\n",
              "51               DM Jones (AUS)  44.61  72.56       0         0\n",
              "52                DC Boon (AUS)  37.04  65.13       1         0\n",
              "56               RR Sarwan (WI)  42.67  75.74       0         0\n",
              "57         EJG Morgan (ENG/IRE)  38.73  88.62       2         0\n",
              "59              SR Watson (AUS)  40.54  90.44       2         0\n",
              "62               WJ Cronje (SA)  38.64  76.47       0         0\n",
              "63              MJ Guptill (NZ)  43.30  87.73       3         0\n",
              "64             MEK Hussey (AUS)  48.15  87.16       3         0\n",
              "65            RG Sharma (INDIA)  42.46  84.56       0         0\n",
              "66                IR Bell (ENG)  37.87  77.16       0         0\n",
              "67             A Jadeja (INDIA)  37.47  69.80       1         0\n",
              "68              DR Martyn (AUS)  40.80  77.73       0         0\n",
              "70            G Gambhir (INDIA)  39.68  85.25       0         0\n",
              "74            CG Greenidge (WI)  45.03  64.92       0         0\n",
              "75          Misbah-ul-Haq (PAK)  43.40  73.75       0         0\n",
              "77              A Symonds (AUS)  39.75  92.44       2         0"
            ]
          },
          "metadata": {
            "tags": []
          },
          "execution_count": 31
        }
      ]
    },
    {
      "cell_type": "code",
      "metadata": {
        "id": "Uy6yKJix0Kwe"
      },
      "source": [
        ""
      ],
      "execution_count": null,
      "outputs": []
    }
  ]
}